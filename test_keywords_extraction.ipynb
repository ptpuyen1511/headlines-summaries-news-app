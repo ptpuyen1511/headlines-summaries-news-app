{
 "cells": [
  {
   "cell_type": "code",
   "execution_count": 2,
   "metadata": {},
   "outputs": [],
   "source": [
    "%load_ext autoreload\n",
    "%autoreload 2"
   ]
  },
  {
   "cell_type": "code",
   "execution_count": null,
   "metadata": {},
   "outputs": [],
   "source": [
    "from keybert import KeyBERT\n",
    "kw_model = KeyBERT()"
   ]
  },
  {
   "cell_type": "code",
   "execution_count": 30,
   "metadata": {},
   "outputs": [],
   "source": [
    "text = '''A White House meeting between President Trump and President Zelensky resulted in a public disagreement regarding compromise with Russia. Trump criticized Zelensky's lack of gratitude and demanded compromise, threatening withdrawal of US support. Vance echoed Trump's criticism. Zelensky, citing war atrocities and the deportation of Ukrainian children, rejected compromise. Trump accused Zelensky of jeopardizing millions of lives and disrespecting the US. The disagreement followed an initially amicable exchange where Zelensky expressed hope for US support and requested a security backstop for peacekeepers. Trump's recent policy shift toward mediation between Russia and Ukraine, including undisclosed communications with Putin, and a proposed resource extraction deal, contributed to the tension. Zelensky urged Trump to visit Ukraine.'''"
   ]
  },
  {
   "cell_type": "code",
   "execution_count": 2,
   "metadata": {},
   "outputs": [
    {
     "name": "stdout",
     "output_type": "stream",
     "text": [
      "Hanoi plans to demolish a six-story building on Dinh Tien Hoang Street to create public space at Hoan Kiem Lake. The project includes constructing a three-level underground mall and parking facility. Further renovations are planned for the Dong Kinh Nghia Thuc square and the lake's east side. The Hoan Kiem District is responsible for developing a comprehensive urban design plan for the area.\n"
     ]
    }
   ],
   "source": [
    "print(text)"
   ]
  },
  {
   "cell_type": "code",
   "execution_count": 9,
   "metadata": {},
   "outputs": [],
   "source": [
    "doc_embeddings, word_embeddings = kw_model.extract_embeddings(text, keyphrase_ngram_range=(1, 3))"
   ]
  },
  {
   "cell_type": "code",
   "execution_count": 10,
   "metadata": {},
   "outputs": [],
   "source": [
    "keywords = kw_model.extract_keywords(text, doc_embeddings=doc_embeddings, word_embeddings=word_embeddings, keyphrase_ngram_range=(1, 3))"
   ]
  },
  {
   "cell_type": "code",
   "execution_count": 11,
   "metadata": {},
   "outputs": [
    {
     "data": {
      "text/plain": [
       "[('hoan kiem lake', 0.6036),\n",
       " ('hanoi plans demolish', 0.5977),\n",
       " ('hoan kiem district', 0.5892),\n",
       " ('hanoi plans', 0.5771),\n",
       " ('hoang street create', 0.5515)]"
      ]
     },
     "execution_count": 11,
     "metadata": {},
     "output_type": "execute_result"
    }
   ],
   "source": [
    "keywords"
   ]
  },
  {
   "cell_type": "code",
   "execution_count": 34,
   "metadata": {},
   "outputs": [
    {
     "name": "stderr",
     "output_type": "stream",
     "text": [
      "[nltk_data] Downloading package stopwords to\n",
      "[nltk_data]     /home/codespace/nltk_data...\n",
      "[nltk_data]   Package stopwords is already up-to-date!\n",
      "[nltk_data] Downloading package punkt_tab to\n",
      "[nltk_data]     /home/codespace/nltk_data...\n",
      "[nltk_data]   Package punkt_tab is already up-to-date!\n"
     ]
    },
    {
     "data": {
      "text/plain": [
       "True"
      ]
     },
     "execution_count": 34,
     "metadata": {},
     "output_type": "execute_result"
    }
   ],
   "source": [
    "import nltk\n",
    "nltk.download('stopwords')\n",
    "nltk.download('punkt_tab')"
   ]
  },
  {
   "cell_type": "code",
   "execution_count": 14,
   "metadata": {},
   "outputs": [],
   "source": [
    "from rake_nltk import Rake\n",
    "\n",
    "r = Rake()"
   ]
  },
  {
   "cell_type": "code",
   "execution_count": 31,
   "metadata": {},
   "outputs": [],
   "source": [
    "r.extract_keywords_from_text(text)"
   ]
  },
  {
   "cell_type": "code",
   "execution_count": 38,
   "metadata": {},
   "outputs": [
    {
     "data": {
      "text/plain": [
       "[(25.0, 'recent policy shift toward mediation'),\n",
       " (16.0, 'proposed resource extraction deal'),\n",
       " (13.666666666666666, 'public disagreement regarding compromise'),\n",
       " (9.0, 'white house meeting'),\n",
       " (9.0, 'initially amicable exchange'),\n",
       " (9.0, 'including undisclosed communications'),\n",
       " (9.0, 'citing war atrocities'),\n",
       " (8.666666666666666, 'zelensky expressed hope'),\n",
       " (8.5, 'vance echoed trump'),\n",
       " (8.166666666666666, 'zelensky urged trump'),\n",
       " (8.166666666666666, 'trump criticized zelensky'),\n",
       " (8.166666666666666, 'trump accused zelensky'),\n",
       " (8.166666666666666, 'president zelensky resulted'),\n",
       " (5.0, 'president trump'),\n",
       " (5.0, 'disagreement followed'),\n",
       " (4.666666666666666, 'rejected compromise'),\n",
       " (4.666666666666666, 'demanded compromise'),\n",
       " (4.0, 'ukrainian children'),\n",
       " (4.0, 'threatening withdrawal'),\n",
       " (4.0, 'security backstop')]"
      ]
     },
     "execution_count": 38,
     "metadata": {},
     "output_type": "execute_result"
    }
   ],
   "source": [
    "r.get_ranked_phrases_with_scores()[:20]"
   ]
  },
  {
   "cell_type": "code",
   "execution_count": 3,
   "metadata": {},
   "outputs": [],
   "source": [
    "news1 = '''Zelensky expressed a desire to mend relations with Trump and collaborate for Ukrainian peace. He regretted their public disagreement and pledged to finalize a minerals deal with the U.S. He proposed a ceasefire as a first step to ending the war with Russia. Trump's halting of military aid to Ukraine caused concern in Kyiv and Europe, with Russia welcoming the decision. The EU is bolstering support for Ukraine and planning increased defense spending. Several European leaders commented on the situation, expressing concern and outlining aid plans. The aid freeze significantly impacts weapons shipments to Ukraine. Ukraine seeks security guarantees and access to Western-backed measures to end the conflict, including a potential, albeit debated, truce proposal involving international troops.'''\n",
    "news2 = '''President Trump implemented 25% tariffs on imports from Mexico and Canada, and doubled tariffs on Chinese goods to 20%, escalating trade conflicts with major U.S. trading partners. These actions affect approximately $2.2 trillion in annual bilateral trade. China responded with additional tariffs on U.S. imports and export restrictions. Canada and Mexico announced retaliatory tariffs on U.S. goods, citing violations of the USMCA agreement. The new tariffs on Chinese goods build upon existing tariffs, impacting various consumer electronics and agricultural products. Concerns were raised regarding negative economic impacts, including potential recessions, job losses, and supply chain disruptions. The tariffs are part of a broader pattern of increased tariff actions by the Trump administration, targeting various countries and industries, including steel, aluminum, lumber, and digital services. Financial markets reacted negatively to the tariff announcements.'''\n",
    "news3 = '''China implemented 10-15% tariffs on various US agricultural and food products in response to new US tariffs. Twenty-five US firms faced export and investment restrictions from China, ten of which were cited for arms sales to Taiwan. The US imposed a 10% tariff increase on certain Chinese goods, resulting in a cumulative 20% tariff. This action targeted Chinese inaction on drug flows, a claim China disputes. The new US tariffs affect various consumer electronics. China's Ministry of Commerce stated that the US tariffs violate WTO rules and that China will protect its interests. Analysts predict potential escalation to a full-scale trade war.'''\n",
    "news4 = '''President Trump announced 25% tariffs on goods from Mexico and Canada, effective Tuesday. This announcement caused significant negative impacts on US stock markets, the Mexican peso, and the Canadian dollar. The tariffs, covering over $900 billion in annual US imports, are attributed to a lack of progress on curbing fentanyl flows and are projected to negatively affect the North American economy. Reciprocal tariffs on countries imposing duties on US products will also begin April 2nd. Further, tariffs on Chinese imports will increase to 20%. Canadian officials indicated preparedness for retaliatory measures. Market reactions included substantial declines in major US stock indices and automakers' shares. Experts predict immediate consumer price increases.'''\n",
    "\n",
    "list_of_news = [news1, news2, news3, news4]"
   ]
  },
  {
   "cell_type": "code",
   "execution_count": null,
   "metadata": {},
   "outputs": [],
   "source": [
    "from _keywords_extract import extract_keywords_all_news"
   ]
  },
  {
   "cell_type": "code",
   "execution_count": 42,
   "metadata": {},
   "outputs": [
    {
     "data": {
      "text/plain": [
       "{'aid freeze significantly impacts weapons shipments': (1, 33.666666666666664),\n",
       " 'truce proposal involving international troops': (1, 25.0),\n",
       " 'several european leaders commented': (1, 16.0),\n",
       " 'planning increased defense spending': (1, 16.0),\n",
       " 'ukraine seeks security guarantees': (1, 14.25),\n",
       " 'outlining aid plans': (1, 9.666666666666666),\n",
       " 'ukraine caused concern': (1, 7.75),\n",
       " 'military aid': (1, 5.666666666666666),\n",
       " 'expressing concern': (1, 4.5),\n",
       " 'zelensky expressed': (1, 4.0),\n",
       " 'ukrainian peace': (1, 4.0),\n",
       " 'public disagreement': (1, 4.0),\n",
       " 'minerals deal': (1, 4.0),\n",
       " 'mend relations': (1, 4.0),\n",
       " 'first step': (1, 4.0),\n",
       " 'bolstering support': (1, 4.0),\n",
       " 'backed measures': (1, 4.0),\n",
       " 'albeit debated': (1, 4.0),\n",
       " 'russia welcoming': (1, 3.5),\n",
       " 'ukraine': (1, 2.25),\n",
       " 'chinese goods build upon existing tariffs': (1, 27.571428571428573),\n",
       " 'raised regarding negative economic impacts': (1, 25.0),\n",
       " '20 %, escalating trade conflicts': (1, 24.0),\n",
       " 'financial markets reacted negatively': (1, 16.0),\n",
       " 'impacting various consumer electronics': (1, 15.5),\n",
       " 'president trump implemented 25': (1, 15.0),\n",
       " 'mexico announced retaliatory tariffs': (1, 13.071428571428571),\n",
       " 'annual bilateral trade': (1, 10.0),\n",
       " 'targeting various countries': (1, 9.5),\n",
       " 'supply chain disruptions': (1, 9.0),\n",
       " 'actions affect approximately': (1, 9.0),\n",
       " 'increased tariff actions': (1, 8.5),\n",
       " 'including potential recessions': (1, 8.5),\n",
       " 'chinese goods': (1, 7.0),\n",
       " 'trump administration': (1, 5.0),\n",
       " 'new tariffs': (1, 4.571428571428571),\n",
       " 'doubled tariffs': (1, 4.571428571428571),\n",
       " 'additional tariffs': (1, 4.571428571428571),\n",
       " 'tariff announcements': (1, 4.5),\n",
       " 'including steel': (1, 4.5),\n",
       " 'new us tariffs affect various consumer electronics': (1, 39.16666666666667),\n",
       " 'five us firms faced export': (1, 24.166666666666668),\n",
       " 'us tariffs violate wto rules': (1, 23.166666666666668),\n",
       " 'analysts predict potential escalation': (1, 16.0),\n",
       " 'action targeted chinese inaction': (1, 15.5),\n",
       " 'new us tariffs': (1, 13.166666666666668),\n",
       " 'various us agricultural': (1, 12.166666666666668),\n",
       " 'certain chinese goods': (1, 9.5),\n",
       " 'scale trade war': (1, 9.0),\n",
       " 'claim china disputes': (1, 7.8),\n",
       " 'china implemented 10': (1, 6.8),\n",
       " 'us imposed': (1, 6.166666666666667),\n",
       " 'tariffs': (1, 4.0),\n",
       " 'investment restrictions': (1, 4.0),\n",
       " 'food products': (1, 4.0),\n",
       " 'drug flows': (1, 4.0),\n",
       " 'cumulative 20': (1, 4.0),\n",
       " 'commerce stated': (1, 4.0),\n",
       " 'arms sales': (1, 4.0),\n",
       " 'tariff increase': (1, 3.5),\n",
       " 'experts predict immediate consumer price increases': (1, 36.0),\n",
       " 'market reactions included substantial declines': (1, 25.0),\n",
       " 'announcement caused significant negative impacts': (1, 25.0),\n",
       " 'president trump announced 25': (1, 16.0),\n",
       " 'also begin april 2nd': (1, 16.0),\n",
       " 'canadian officials indicated preparedness': (1, 15.0),\n",
       " 'major us stock indices': (1, 14.5),\n",
       " 'us stock markets': (1, 9.5),\n",
       " 'north american economy': (1, 9.0),\n",
       " 'curbing fentanyl flows': (1, 9.0),\n",
       " 'countries imposing duties': (1, 9.0),\n",
       " 'annual us imports': (1, 8.5),\n",
       " 'us products': (1, 5.0),\n",
       " 'canadian dollar': (1, 5.0),\n",
       " 'chinese imports': (1, 4.5),\n",
       " 'retaliatory measures': (1, 4.0),\n",
       " 'negatively affect': (1, 4.0),\n",
       " 'mexican peso': (1, 4.0),\n",
       " 'effective tuesday': (1, 4.0),\n",
       " '900 billion': (1, 4.0)}"
      ]
     },
     "execution_count": 42,
     "metadata": {},
     "output_type": "execute_result"
    }
   ],
   "source": [
    "extract_keywords_all_news(list_of_news)"
   ]
  },
  {
   "cell_type": "code",
   "execution_count": 4,
   "metadata": {},
   "outputs": [],
   "source": [
    "list_of_news_str = '\\n\\n'.join(list_of_news)"
   ]
  },
  {
   "cell_type": "code",
   "execution_count": 14,
   "metadata": {},
   "outputs": [],
   "source": [
    "from _keywords_extract import extract_keywords_gemini"
   ]
  },
  {
   "cell_type": "code",
   "execution_count": 15,
   "metadata": {},
   "outputs": [],
   "source": [
    "list_keywords = extract_keywords_gemini(list_of_news_str)"
   ]
  },
  {
   "cell_type": "code",
   "execution_count": 16,
   "metadata": {},
   "outputs": [
    {
     "data": {
      "text/plain": [
       "[Output(keyword='tariffs', score=0.9),\n",
       " Output(keyword='Ukraine', score=0.8),\n",
       " Output(keyword='Trump', score=0.7),\n",
       " Output(keyword='China', score=0.7),\n",
       " Output(keyword='US', score=0.6),\n",
       " Output(keyword='trade', score=0.5),\n",
       " Output(keyword='Mexico', score=0.4),\n",
       " Output(keyword='Canada', score=0.4),\n",
       " Output(keyword='aid', score=0.3),\n",
       " Output(keyword='imports', score=0.3),\n",
       " Output(keyword='war', score=0.2),\n",
       " Output(keyword='economy', score=0.2),\n",
       " Output(keyword='military aid', score=0.2),\n",
       " Output(keyword='trade war', score=0.2),\n",
       " Output(keyword='Chinese goods', score=0.2),\n",
       " Output(keyword='US tariffs', score=0.2),\n",
       " Output(keyword='security guarantees', score=0.1),\n",
       " Output(keyword='financial markets', score=0.1),\n",
       " Output(keyword='consumer price', score=0.1),\n",
       " Output(keyword='defense spending', score=0.1)]"
      ]
     },
     "execution_count": 16,
     "metadata": {},
     "output_type": "execute_result"
    }
   ],
   "source": [
    "list_keywords"
   ]
  },
  {
   "cell_type": "code",
   "execution_count": 17,
   "metadata": {},
   "outputs": [
    {
     "name": "stdout",
     "output_type": "stream",
     "text": [
      "tariffs\n",
      "Ukraine\n",
      "Trump\n",
      "China\n",
      "US\n",
      "trade\n",
      "Mexico\n",
      "Canada\n",
      "aid\n",
      "imports\n",
      "war\n",
      "economy\n",
      "military aid\n",
      "trade war\n",
      "Chinese goods\n",
      "US tariffs\n",
      "security guarantees\n",
      "financial markets\n",
      "consumer price\n",
      "defense spending\n"
     ]
    }
   ],
   "source": [
    "for keywords in list_keywords:\n",
    "    print(keywords.keyword)"
   ]
  },
  {
   "cell_type": "code",
   "execution_count": null,
   "metadata": {},
   "outputs": [],
   "source": []
  }
 ],
 "metadata": {
  "kernelspec": {
   "display_name": "Python 3",
   "language": "python",
   "name": "python3"
  },
  "language_info": {
   "codemirror_mode": {
    "name": "ipython",
    "version": 3
   },
   "file_extension": ".py",
   "mimetype": "text/x-python",
   "name": "python",
   "nbconvert_exporter": "python",
   "pygments_lexer": "ipython3",
   "version": "3.10.13"
  }
 },
 "nbformat": 4,
 "nbformat_minor": 2
}
