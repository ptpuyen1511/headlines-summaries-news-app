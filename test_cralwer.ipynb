{
 "cells": [
  {
   "cell_type": "code",
   "execution_count": 1,
   "metadata": {},
   "outputs": [],
   "source": [
    "from _crawler import FilterURL, get_all_links, get_content\n",
    "from _summarizer import create_model, summarize\n",
    "from IPython.display import Markdown"
   ]
  },
  {
   "cell_type": "code",
   "execution_count": 14,
   "metadata": {},
   "outputs": [],
   "source": [
    "news = get_content('https://e.vnexpress.net/news/markets/dollar-inches-up-against-dong-4737123.html')"
   ]
  },
  {
   "cell_type": "code",
   "execution_count": 15,
   "metadata": {},
   "outputs": [],
   "source": [
    "summarizer_model = create_model('gemini-1.0-pro')"
   ]
  },
  {
   "cell_type": "code",
   "execution_count": 16,
   "metadata": {},
   "outputs": [],
   "source": [
    "summarized_text = summarize(summarizer_model, full_text=news['text'])"
   ]
  },
  {
   "cell_type": "code",
   "execution_count": 17,
   "metadata": {},
   "outputs": [
    {
     "data": {
      "text/markdown": [
       "The U.S. dollar went up against the Vietnamese dong both at banks and unofficial exchange points Monday morning.\n",
       "\n",
       "Vietcombank sold the dollar at VND25,485, up 0.05% from Sunday.\n",
       "\n",
       "The greenback rose 0.43% to VND25,870 on the black market.\n",
       "\n",
       "The State Bank of Vietnam (SBV) also raised its reference rate by 0.05% to VND24,272.\n",
       "\n",
       "The dollar has increased against the dong by 4.36% since the beginning of the year.\n",
       "\n",
       "Globally, the euro and yen were relatively steady in early Asian trading on Monday and the U.S. dollar stayed near its highs after last week's hectic policy and geopolitical developments, Reuters reported.\n",
       "\n",
       "The yen hit 154.70 per dollar, not far from last week's 34-year low of 154.79 and close enough to the 155-level that is next on traders' alerts for possible intervention by Japanese authorities.\n",
       "\n",
       "The yen has been one of the biggest losers against the dollar this year, with losses mounting to 9%.\n",
       "\n",
       "The euro was at $1.0657.\n",
       "\n",
       "The dollar's trade-weighted index was above 106, but off five-month highs it struck last week after comments from Federal Reserve officials and a run of hotter-than-expected inflation data forced a paring back of rate cut expectations.\n",
       "\n",
       "Yet, while the rethink on Fed easing has led to a general repricing of global rate cut timelines, expectations for the European Central Bank (ECB) and Bank of England (BoE) to start cutting by mid-year are still intact."
      ],
      "text/plain": [
       "<IPython.core.display.Markdown object>"
      ]
     },
     "execution_count": 17,
     "metadata": {},
     "output_type": "execute_result"
    }
   ],
   "source": [
    "Markdown(news['text'])"
   ]
  },
  {
   "cell_type": "code",
   "execution_count": 18,
   "metadata": {},
   "outputs": [
    {
     "data": {
      "text/markdown": [
       "**U.S. Dollar Appreciation Against Vietnamese Dong**\n",
       "\n",
       "* U.S. dollar strengthened against Vietnamese dong at bank and unofficial exchange points.\n",
       "* Vietcombank's selling rate increased 0.05% to VND25,485.\n",
       "* Black market rate rose 0.43% to VND25,870.\n",
       "* State Bank of Vietnam (SBV) adjusted reference rate up 0.05% to VND24,272.\n",
       "* Dollar has appreciated 4.36% year-to-date against the dong.\n",
       "\n",
       "**Global Currency Market**\n",
       "\n",
       "* Euro and yen relatively stable in early Asian trading.\n",
       "* U.S. dollar near highs after recent geopolitical and policy events.\n",
       "* Yen reached a 34-year low of 154.70 against the dollar.\n",
       "* Dollar's trade-weighted index above 106 but below recent highs.\n",
       "* Expectations of rate cuts by ECB and BoE remain intact, despite market repricing due to Fed comments and inflation data."
      ],
      "text/plain": [
       "<IPython.core.display.Markdown object>"
      ]
     },
     "execution_count": 18,
     "metadata": {},
     "output_type": "execute_result"
    }
   ],
   "source": [
    "Markdown(summarized_text)"
   ]
  },
  {
   "cell_type": "code",
   "execution_count": null,
   "metadata": {},
   "outputs": [],
   "source": []
  }
 ],
 "metadata": {
  "kernelspec": {
   "display_name": "base",
   "language": "python",
   "name": "python3"
  },
  "language_info": {
   "codemirror_mode": {
    "name": "ipython",
    "version": 3
   },
   "file_extension": ".py",
   "mimetype": "text/x-python",
   "name": "python",
   "nbconvert_exporter": "python",
   "pygments_lexer": "ipython3",
   "version": "3.10.13"
  }
 },
 "nbformat": 4,
 "nbformat_minor": 2
}
