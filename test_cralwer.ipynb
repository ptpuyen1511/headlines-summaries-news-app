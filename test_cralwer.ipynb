{
 "cells": [
  {
   "cell_type": "code",
   "execution_count": 1,
   "metadata": {},
   "outputs": [],
   "source": [
    "from _crawler import FilterURL, get_all_links, get_content\n",
    "from _summarizer import create_model, summarize\n",
    "from IPython.display import Markdown"
   ]
  },
  {
   "cell_type": "code",
   "execution_count": 2,
   "metadata": {},
   "outputs": [],
   "source": [
    "news = get_content('https://e.vnexpress.net/news/markets/dollar-inches-up-against-dong-4737123.html')"
   ]
  },
  {
   "cell_type": "code",
   "execution_count": 19,
   "metadata": {},
   "outputs": [],
   "source": [
    "news = get_content('https://e.vnexpress.net/news/news/traffic/new-york-city-congestion-program-collected-48-6m-in-january-4854518.html')"
   ]
  },
  {
   "cell_type": "code",
   "execution_count": 15,
   "metadata": {},
   "outputs": [],
   "source": [
    "summarizer_model = create_model('gemini-1.5-pro')"
   ]
  },
  {
   "cell_type": "code",
   "execution_count": 20,
   "metadata": {},
   "outputs": [],
   "source": [
    "summarized_text = summarize(summarizer_model, full_text=news['text'])"
   ]
  },
  {
   "cell_type": "code",
   "execution_count": 21,
   "metadata": {},
   "outputs": [
    {
     "data": {
      "text/markdown": [
       "New York City collected $48.6 million in revenue from the first month of its congestion pricing program that the Trump administration has moved to kill, a transit agency said.\n",
       "\n",
       "The Metropolitan Transportation Authority (MTA) said on Monday that in January the program reduced congestion and raised $48.6 million with $11.1 million in expenses and net operating revenue of $37.5 million.\n",
       "\n",
       "New York Governor Kathy Hochul met with President Donald Trump on Friday to make the case for the congestion pricing program.\n",
       "\n",
       "Under the program, which launched on Jan. 5, most passenger vehicles are charged $9 during peak periods to enter Manhattan south of 60th Street. Trucks and buses pay up to $21.60. The fee is reduced by 75% at night.\n",
       "\n",
       "The MTA, which has issued $900 million in debt for the congestion system infrastructure costs and capital projects, projected Monday it is on track to raise $500 million in net revenue the first year, noting it only collected revenue for 27 days in January.\n",
       "\n",
       "In total, 68% of revenue came from passenger vehicles, 22% taxis and ride-share vehicles, 9% from trucks and 1% motorcycles and buses.\n",
       "\n",
       "The MTA sued last week seeking to block Trump's effort to terminate the program.\n",
       "\n",
       "Hochul has said that funds raised from the program would underpin $15 billion in debt financing for mass transit capital improvements.\n",
       "\n",
       "The program was approved in the final months of former President Joe Biden's administration.\n",
       "\n",
       "Charged via electronic license plate readers, private cars pay once a day regardless of how many trips they make into the central business district.\n",
       "\n",
       "A few other cities have implemented congestion pricing systems. London, which began its system in 2003, now charges 15 pounds ($18.70). Singapore and Sweden also have congestion pricing plans.\n",
       "\n",
       "Before the fee, New York said more than 700,000 vehicles entered the Manhattan central business district daily, slowing traffic to around 7 miles per hour (11 kph) on average, which is 23% slower than in 2010."
      ],
      "text/plain": [
       "<IPython.core.display.Markdown object>"
      ]
     },
     "execution_count": 21,
     "metadata": {},
     "output_type": "execute_result"
    }
   ],
   "source": [
    "Markdown(news['text'])"
   ]
  },
  {
   "cell_type": "code",
   "execution_count": 22,
   "metadata": {},
   "outputs": [
    {
     "data": {
      "text/markdown": [
       "NYC's congestion pricing program generated $48.6 million in gross revenue and $37.5 million net revenue in its first month (January).  Passenger vehicles contributed 68% of revenue, taxis and ride-shares 22%, trucks 9%, and buses/motorcycles 1%.  The MTA projects $500 million in net revenue for the first year.  The program charges most vehicles $9 during peak hours to enter Manhattan below 60th Street.  The Trump administration is attempting to terminate the program, prompting a lawsuit from the MTA.  New York Governor Kathy Hochul is advocating for the program, citing its role in funding $15 billion in transit improvements.  Similar programs exist in London, Singapore, and Sweden.  NYC implemented the program to address increased traffic congestion in the Manhattan central business district.\n"
      ],
      "text/plain": [
       "<IPython.core.display.Markdown object>"
      ]
     },
     "execution_count": 22,
     "metadata": {},
     "output_type": "execute_result"
    }
   ],
   "source": [
    "Markdown(summarized_text)"
   ]
  },
  {
   "cell_type": "code",
   "execution_count": null,
   "metadata": {},
   "outputs": [],
   "source": []
  }
 ],
 "metadata": {
  "kernelspec": {
   "display_name": "Python 3",
   "language": "python",
   "name": "python3"
  },
  "language_info": {
   "codemirror_mode": {
    "name": "ipython",
    "version": 3
   },
   "file_extension": ".py",
   "mimetype": "text/x-python",
   "name": "python",
   "nbconvert_exporter": "python",
   "pygments_lexer": "ipython3",
   "version": "3.10.13"
  }
 },
 "nbformat": 4,
 "nbformat_minor": 2
}
