{
 "cells": [
  {
   "cell_type": "code",
   "execution_count": 1,
   "metadata": {},
   "outputs": [],
   "source": [
    "from _crawler import FilterURL, get_all_links, get_content"
   ]
  },
  {
   "cell_type": "code",
   "execution_count": 2,
   "metadata": {},
   "outputs": [
    {
     "data": {
      "text/plain": [
       "{'title': 'Indonesian volcano eruption forces evacuations, airport closure',\n",
       " 'date': 'April 18, 2024',\n",
       " 'text': 'Indonesia shut a provincial airport and evacuated hundreds of people from the vicinity of the Ruang volcano after it belched explosive plumes of lava, rocks and ash for days, officials said on Thursday, declaring the highest alert on the situation.\\nWednesday’s dramatic eruption of the volcano on a remote island in the province of North Sulawesi threw a fiery-red column of lava, incandescent rock and ash as much as three km (two miles) into the sky.\\nPurple flashes of lightning rent the sky above the erupting volcano, videos on social media showed.\\n\"We’re running, guys,\" said one witness who filmed the eruption while scrambling to evacuate. \"We are escaping because the ash is coming close.\"\\nMore than 800 people were evacuated from the area, with authorities widening the evacuation zone further after the volcanology agency raised the alert status.\\n\"The potential for further eruption is still high, so we need to remain alert,\" agency official Heruningtyas Desi Purnamasari told reporters on Thursday, blaming a rapid escalation in volcanic activity.\\nThe agency had also received reports that falling rocks and ash damaged homes and forced a nearby hospital to evacuate, the official said.\\nTransport authorities shut the airport in the provincial capital of Manado to protect against the showers of ash from the eruption.\\nBudget airline Air Asia canceled flights with nine airports in East Malaysia and Brunei after aviation authorities warned of a safety threat.\\nOfficials have cordoned off an area of 6 km around the volcano and are evacuating more residents, some from the neighboring island of Tagulandang, said Abdul Muhari, spokesperson of the disaster mitigation agency.\\nAbout 1,500 of those in high-risk areas needed to be immediately evacuated, he added, while almost 12,000 more stand to be affected.\\nOfficials have also flagged the risk of a tsunami if parts of the mountain collapse into the ocean below. About 400 people were killed in a tsunami unleashed by a previous eruption of the volcano in 1871.',\n",
       " 'author': 'Reuters',\n",
       " 'category': 'world',\n",
       " 'url': 'https://e.vnexpress.net/news/world/indonesian-volcano-eruption-forces-evacuations-airport-closure-4735823.html',\n",
       " 'is_valid': True}"
      ]
     },
     "execution_count": 2,
     "metadata": {},
     "output_type": "execute_result"
    }
   ],
   "source": [
    "get_content('https://e.vnexpress.net/news/world/indonesian-volcano-eruption-forces-evacuations-airport-closure-4735823.html')"
   ]
  },
  {
   "cell_type": "code",
   "execution_count": null,
   "metadata": {},
   "outputs": [],
   "source": []
  }
 ],
 "metadata": {
  "kernelspec": {
   "display_name": "base",
   "language": "python",
   "name": "python3"
  },
  "language_info": {
   "codemirror_mode": {
    "name": "ipython",
    "version": 3
   },
   "file_extension": ".py",
   "mimetype": "text/x-python",
   "name": "python",
   "nbconvert_exporter": "python",
   "pygments_lexer": "ipython3",
   "version": "3.8.12"
  }
 },
 "nbformat": 4,
 "nbformat_minor": 2
}
