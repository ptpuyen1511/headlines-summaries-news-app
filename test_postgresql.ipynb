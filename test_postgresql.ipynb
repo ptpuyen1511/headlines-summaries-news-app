{
 "cells": [
  {
   "cell_type": "code",
   "execution_count": 1,
   "metadata": {},
   "outputs": [],
   "source": [
    "from sqlalchemy import URL, create_engine, text\n",
    "import streamlit as st"
   ]
  },
  {
   "cell_type": "code",
   "execution_count": 2,
   "metadata": {},
   "outputs": [],
   "source": [
    "connection_string = URL.create(\n",
    "    'postgresql',\n",
    "    username=st.secrets.connections.postgresql.username,\n",
    "    password=st.secrets.connections.postgresql.password,\n",
    "    host=st.secrets.connections.postgresql.host,\n",
    "    database=st.secrets.connections.postgresql.database,\n",
    "    query={'options':'endpoint=ep-sweet-cloud-a1zh9huf'}\n",
    ")"
   ]
  },
  {
   "cell_type": "code",
   "execution_count": 3,
   "metadata": {},
   "outputs": [],
   "source": [
    "engine = create_engine(connection_string, connect_args={'sslmode':'require'}, pool_pre_ping=True, pool_recycle=3600)\n",
    "conn = engine.connect()"
   ]
  },
  {
   "cell_type": "markdown",
   "metadata": {},
   "source": [
    "## Delete"
   ]
  },
  {
   "cell_type": "code",
   "execution_count": 4,
   "metadata": {},
   "outputs": [
    {
     "name": "stdout",
     "output_type": "stream",
     "text": [
      "('https://e.vnexpress.net/news/travel/food-recipes/vietnamese-cuisine-popularized-in-singapore-4747133.html', 3)\n",
      "('https://e.vnexpress.net/news/news/s-korea-employment-applications-from-vietnam-exceed-quota-threefold-4747066.html', 2)\n",
      "('https://e.vnexpress.net/news/news/buddha-statues-unearthed-in-laos-s-bokeo-province-4747807.html', 2)\n",
      "('https://e.vnexpress.net/news/travel/three-foreign-tourists-shot-dead-in-central-afghanistan-4747554.html', 3)\n",
      "('https://e.vnexpress.net/news/travel/singapore-s-changi-airport-allows-all-foreigners-to-use-automated-lanes-4747674.html', 3)\n",
      "('https://e.vnexpress.net/news/news/traffic/four-face-charges-for-parking-luxury-cars-on-road-for-wedding-photo-shoot-4747868.html', 2)\n",
      "('https://e.vnexpress.net/news/sports/other-sports/vietnamese-player-to-miss-american-basketball-dream-4747376.html', 2)\n",
      "('https://e.vnexpress.net/news/news/environment/saigon-canal-cleaned-of-rubbish-blocking-water-flow-4747269.html', 3)\n",
      "('https://e.vnexpress.net/news/travel/china-allows-cruise-tourists-15-day-visa-free-entry-4747247.html', 2)\n",
      "('https://e.vnexpress.net/news/sports/boxing/usyk-beats-fury-to-become-undisputed-world-heavyweight-boxing-champion-4747925.html', 2)\n",
      "('https://e.vnexpress.net/news/news/public-security-minister-to-lam-recommended-to-be-vietnam-s-new-president-4747736.html', 3)\n",
      "('https://e.vnexpress.net/news/travel/singapore-airlines-ceo-says-travel-out-of-china-not-yet-recovered-4746921.html', 3)\n",
      "('https://e.vnexpress.net/news/news/crime/after-cambodia-crypto-scam-indians-demand-more-jobs-at-home-4746750.html', 2)\n",
      "('https://e.vnexpress.net/news/life/arts/rare-sequel-to-my-neighbor-totoro-to-play-at-cannes-4747969.html', 2)\n",
      "('https://e.vnexpress.net/news/news/former-hcmc-leader-stripped-of-party-titles-4747042.html', 2)\n",
      "('https://e.vnexpress.net/news/travel/thailand-beats-malaysia-to-become-most-visited-country-in-southeast-asia-4747442.html', 2)\n",
      "('https://e.vnexpress.net/news/travel/food-recipes/singapore-restaurant-to-close-after-asia-s-most-googled-chef-dies-4747816.html', 2)\n",
      "('https://e.vnexpress.net/news/business/companies/pandora-builds-150m-jewelry-plant-in-southern-binh-duong-4747335.html', 2)\n",
      "('https://e.vnexpress.net/news/news/crime/vietnamese-women-on-trial-for-selling-newborn-babies-4747664.html', 2)\n",
      "('https://e.vnexpress.net/news/news/education/vietnamese-man-21-wins-phd-scholarship-at-top-us-technology-institute-4745514.html', 2)\n",
      "('https://e.vnexpress.net/news/business/economy/singapore-s-gdp-to-grow-2-1-this-year-imf-4747411.html', 2)\n",
      "('https://e.vnexpress.net/news/news/vietnam-party-secretariat-seat-swaps-for-new-member-4747002.html', 3)\n",
      "('https://e.vnexpress.net/news/sports/tennis/italian-hard-hitting-tennis-beauty-retires-at-32-4747568.html', 2)\n",
      "('https://e.vnexpress.net/news/news/education/why-candidates-get-rejected-by-world-s-top-university-4744349.html', 2)\n",
      "('https://e.vnexpress.net/news/life/celebrities/new-miss-usa-2023-savannah-gankiewicz-shines-at-coronation-4747291.html', 2)\n",
      "('https://e.vnexpress.net/news/news/chinese-e-bike-brand-uses-map-that-violates-vietnam-s-sovereignty-4747940.html', 2)\n",
      "('https://e.vnexpress.net/news/business/companies/who-are-5-richest-individuals-in-japan-4746274.html', 2)\n",
      "('https://e.vnexpress.net/news/news/education/sex-education-to-be-banned-for-under-nines-in-england-4746905.html', 3)\n",
      "('https://e.vnexpress.net/news/news/environment/climate-change-could-force-thailand-to-relocate-capital-bangkok-4746839.html', 3)\n",
      "('https://e.vnexpress.net/news/sports/football/quiz-which-team-holds-record-for-the-most-champions-league-titles-4746950.html', 3)\n",
      "('https://e.vnexpress.net/news/news/thai-cannabis-groups-urge-government-to-rethink-plan-to-re-criminalize-marijuana-4747099.html', 2)\n",
      "('https://e.vnexpress.net/news/news/over-100-in-central-vietnam-fall-prey-to-south-korean-job-scams-4746843.html', 3)\n",
      "('https://e.vnexpress.net/news/news/vietnam-to-start-vote-on-new-president-and-national-assembly-chair-monday-4747847.html', 2)\n",
      "('https://e.vnexpress.net/news/business/markets/industrial-real-estate-market-stable-in-year-s-first-months-4747923.html', 2)\n",
      "('https://e.vnexpress.net/news/news/crime/two-police-officers-killed-in-suspected-al-qaeda-linked-attack-in-malaysia-4747636.html', 2)\n",
      "('https://e.vnexpress.net/news/world/more-than-60-of-world-s-coral-reefs-may-have-bleached-in-past-year-noaa-says-4747105.html', 2)\n",
      "('https://e.vnexpress.net/news/news/vietnam-party-committee-recommends-presidential-parliamentary-candidates-4747030.html', 3)\n"
     ]
    }
   ],
   "source": [
    "query = text('SELECT url , COUNT(url) FROM news GROUP BY url HAVING COUNT(url) > 1')\n",
    "output = conn.execute(query)\n",
    "rows = output.fetchall()\n",
    "for row in rows:\n",
    "    print(row)"
   ]
  },
  {
   "cell_type": "code",
   "execution_count": 5,
   "metadata": {},
   "outputs": [
    {
     "data": {
      "text/plain": [
       "<sqlalchemy.engine.cursor.CursorResult at 0x76ce2ca31300>"
      ]
     },
     "execution_count": 5,
     "metadata": {},
     "output_type": "execute_result"
    }
   ],
   "source": [
    "query = text('DELETE FROM news a USING news b WHERE a.id < b.id AND a.url = b.url')\n",
    "conn.execute(query)"
   ]
  },
  {
   "cell_type": "code",
   "execution_count": 6,
   "metadata": {},
   "outputs": [],
   "source": [
    "query = text('SELECT url , COUNT(url) FROM news GROUP BY url HAVING COUNT(url) > 1')\n",
    "output = conn.execute(query)\n",
    "rows = output.fetchall()\n",
    "for row in rows:\n",
    "    print(row)"
   ]
  },
  {
   "cell_type": "code",
   "execution_count": 7,
   "metadata": {},
   "outputs": [],
   "source": [
    "conn.commit()"
   ]
  },
  {
   "cell_type": "code",
   "execution_count": 8,
   "metadata": {},
   "outputs": [],
   "source": [
    "conn.close()"
   ]
  },
  {
   "cell_type": "markdown",
   "metadata": {},
   "source": [
    "## Crawl and insert"
   ]
  },
  {
   "cell_type": "code",
   "execution_count": 4,
   "metadata": {},
   "outputs": [],
   "source": [
    "from _crawler import FilterURL, get_all_links, get_content\n",
    "from _summarizer import create_model, summarize\n",
    "\n",
    "summarizer_model = create_model('gemini-1.0-pro')"
   ]
  },
  {
   "cell_type": "code",
   "execution_count": 12,
   "metadata": {},
   "outputs": [],
   "source": [
    "news_sample = get_content('https://e.vnexpress.net/news/news/singapore-allows-online-declaration-for-15-000-cash-transit-4736850.html')\n",
    "summarized_text_sample = summarize(summarizer_model, full_text=news_sample['text'])"
   ]
  },
  {
   "cell_type": "code",
   "execution_count": 13,
   "metadata": {},
   "outputs": [],
   "source": [
    "summarized_text_sample = summarized_text_sample.replace(\"'\", \"''\").replace('\"', '')\n",
    "news_sample['title'] = news_sample['title'].replace('\"', '')"
   ]
  },
  {
   "cell_type": "code",
   "execution_count": 14,
   "metadata": {},
   "outputs": [],
   "source": [
    "query_insert = \"INSERT INTO news(url, title, date, author, category, summary) \" + \\\n",
    "                f\"VALUES('{news_sample['url']}', '{news_sample['title']}', '{news_sample['date']}', '{news_sample['author']}', '{news_sample['category']}', '{summarized_text_sample}')\""
   ]
  },
  {
   "cell_type": "code",
   "execution_count": 15,
   "metadata": {},
   "outputs": [],
   "source": [
    "query_insert_check = \"INSERT INTO NEWS(url, title, date, author, category, summary) \" + \\\n",
    "                f\"SELECT '{news_sample['url']}', '{news_sample['title']}', '{news_sample['date']}', '{news_sample['author']}', '{news_sample['category']}', '{summarized_text_sample}'\" + \\\n",
    "                f\"WHERE NOT EXISTS (SELECT 1 FROM NEWS WHERE url = '{news_sample['url']}')\""
   ]
  },
  {
   "cell_type": "code",
   "execution_count": 16,
   "metadata": {},
   "outputs": [
    {
     "data": {
      "text/plain": [
       "\"INSERT INTO NEWS(url, title, date, author, category, summary) SELECT 'https://e.vnexpress.net/news/news/singapore-allows-online-declaration-for-15-000-cash-transit-4736850.html', 'Singapore allows online declaration for $15,000 cash transit', '2024-04-21', 'Hoang Phong', 'news', '**Online Cash Declaration for Singapore Travelers:**\\n\\nEffective May 13, travelers entering or leaving Singapore with cash exceeding S$20,000 must make online declarations.\\n\\nThe online form, available from May 10 on the Immigration and Checkpoints Authority website or MyICA app, aims to streamline the process and enhance convenience.\\n\\nDeclarations must be submitted three days prior to arrival/departure and reviewed before reaching Singapore checkpoints.\\n\\nFailure to declare cash and negotiable instruments can result in imprisonment up to three years, fines up to S$50,000, or both.'WHERE NOT EXISTS (SELECT 1 FROM NEWS WHERE url = 'https://e.vnexpress.net/news/news/singapore-allows-online-declaration-for-15-000-cash-transit-4736850.html')\""
      ]
     },
     "execution_count": 16,
     "metadata": {},
     "output_type": "execute_result"
    }
   ],
   "source": [
    "query_insert_check"
   ]
  },
  {
   "cell_type": "code",
   "execution_count": 17,
   "metadata": {},
   "outputs": [
    {
     "data": {
      "text/plain": [
       "<sqlalchemy.engine.cursor.CursorResult at 0x7fa4d671b5e0>"
      ]
     },
     "execution_count": 17,
     "metadata": {},
     "output_type": "execute_result"
    }
   ],
   "source": [
    "conn.execute(text(query_insert_check))"
   ]
  },
  {
   "cell_type": "code",
   "execution_count": 20,
   "metadata": {},
   "outputs": [],
   "source": [
    "conn.commit()"
   ]
  },
  {
   "cell_type": "code",
   "execution_count": 21,
   "metadata": {},
   "outputs": [],
   "source": [
    "output = conn.execute(text(\"SELECT * FROM news\"))"
   ]
  },
  {
   "cell_type": "code",
   "execution_count": 22,
   "metadata": {},
   "outputs": [
    {
     "name": "stdout",
     "output_type": "stream",
     "text": [
      "(1, 'https://e.vnexpress.net/news/property/asking-prices-for-uk-homes-close-to-record-high-4737334.html', 'Asking prices for UK homes close to record high', datetime.date(2024, 4, 22), 'Reuters', 'property', '**Summary:**\\\\n\\\\n* UK house asking prices are near record highs, increasing by 1.7% annually.\\\\n* Monthly asking prices rose by 1.1%, slowing from t ... (290 characters truncated) ... hile growth is slower among first-time and second-time buyers.\\\\n* Experts caution against substantial price growth due to current market conditions.')\n",
      "(3, 'https://e.vnexpress.net/news/news/education/hcmc-private-university-annual-tuition-cost-nearly-14-000-4734709.html', 'HCMC private university annual tuition cost nearly $14,000', datetime.date(2024, 4, 18), 'Duong Tam', 'news', '**Tuition Fees for Private Universities in Ho Chi Minh City**\\n\\nAnnual tuition fees for new students at private universities in Ho Chi Minh City (HC ... (599 characters truncated) ... onsidering proficiency tests and English proficiency.\\n* They offer flexible education programs, including some that can be completed in 3-3.5 years.')\n",
      "(4, 'https://e.vnexpress.net/news/news/singapore-allows-online-declaration-for-15-000-cash-transit-4736850.html', 'Singapore allows online declaration for $15,000 cash transit', datetime.date(2024, 4, 21), 'Hoang Phong', 'news', '**Online Cash Declaration for Singapore Travelers:**\\n\\nEffective May 13, travelers entering or leaving Singapore with cash exceeding S$20,000 must m ... (295 characters truncated) ... apore checkpoints.\\n\\nFailure to declare cash and negotiable instruments can result in imprisonment up to three years, fines up to S$50,000, or both.')\n"
     ]
    }
   ],
   "source": [
    "rows = output.fetchall()\n",
    "for row in rows:\n",
    "    print(row)"
   ]
  },
  {
   "cell_type": "code",
   "execution_count": 23,
   "metadata": {},
   "outputs": [],
   "source": [
    "conn.commit()"
   ]
  },
  {
   "cell_type": "code",
   "execution_count": 29,
   "metadata": {},
   "outputs": [],
   "source": [
    "conn.close()"
   ]
  },
  {
   "cell_type": "code",
   "execution_count": null,
   "metadata": {},
   "outputs": [],
   "source": []
  }
 ],
 "metadata": {
  "kernelspec": {
   "display_name": "Python 3",
   "language": "python",
   "name": "python3"
  },
  "language_info": {
   "codemirror_mode": {
    "name": "ipython",
    "version": 3
   },
   "file_extension": ".py",
   "mimetype": "text/x-python",
   "name": "python",
   "nbconvert_exporter": "python",
   "pygments_lexer": "ipython3",
   "version": "3.10.13"
  }
 },
 "nbformat": 4,
 "nbformat_minor": 2
}
