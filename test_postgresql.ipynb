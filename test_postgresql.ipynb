{
 "cells": [
  {
   "cell_type": "code",
   "execution_count": 1,
   "metadata": {},
   "outputs": [],
   "source": [
    "from sqlalchemy import URL, create_engine, text\n",
    "import streamlit as st"
   ]
  },
  {
   "cell_type": "code",
   "execution_count": 2,
   "metadata": {},
   "outputs": [],
   "source": [
    "connection_string = URL.create(\n",
    "    'postgresql',\n",
    "    username=st.secrets.connections.postgresql.username,\n",
    "    password=st.secrets.connections.postgresql.password,\n",
    "    host=st.secrets.connections.postgresql.host,\n",
    "    database=st.secrets.connections.postgresql.database,\n",
    "    query={'options':'endpoint=ep-sweet-cloud-a1zh9huf'}\n",
    ")"
   ]
  },
  {
   "cell_type": "code",
   "execution_count": 3,
   "metadata": {},
   "outputs": [],
   "source": [
    "engine = create_engine(connection_string, connect_args={'sslmode':'require'}, pool_pre_ping=True, pool_recycle=3600)\n",
    "conn = engine.connect()"
   ]
  },
  {
   "cell_type": "markdown",
   "metadata": {},
   "source": [
    "## Delete"
   ]
  },
  {
   "cell_type": "code",
   "execution_count": 5,
   "metadata": {},
   "outputs": [
    {
     "name": "stdout",
     "output_type": "stream",
     "text": [
      "('https://e.vnexpress.net/news/world/attacking-birth-control-pills-us-influencers-push-misinformation-4745371.html', 8)\n",
      "('https://e.vnexpress.net/news/world/sony-sees-higher-profit-from-image-sensors-to-conduct-stock-split-4745941.html', 2)\n",
      "('https://e.vnexpress.net/news/life/love/quiz-where-should-you-live-for-ultimate-happiness-4745082.html', 3)\n",
      "('https://e.vnexpress.net/news/business/markets/dollar-remains-steady-against-dong-4746306.html', 4)\n",
      "('https://e.vnexpress.net/news/life/wellness/8-foods-to-avoid-to-reduce-belly-fat-4746077.html', 2)\n",
      "('https://e.vnexpress.net/news/travel/places/japan-to-introduce-online-booking-for-mount-fuji-trail-4745661.html', 3)\n",
      "('https://e.vnexpress.net/news/news/crime/chinese-woman-says-growing-opium-plants-for-hotpot-seasoning-4745884.html', 2)\n",
      "('https://e.vnexpress.net/news/sports/football/kylian-mbappe-wins-award-for-france-s-player-of-the-year-amid-psg-exit-4745975.html', 4)\n",
      "('https://e.vnexpress.net/news/news/vietnam-supports-palestine-becoming-un-member-4746009.html', 2)\n",
      "('https://e.vnexpress.net/news/travel/places/hcmc-targets-high-spending-australian-tourists-4746282.html', 3)\n",
      "('https://e.vnexpress.net/news/news/350-workers-at-south-korean-firm-suffer-food-poisoning-4746232.html', 5)\n",
      "('https://e.vnexpress.net/news/world/massive-manhunt-after-french-prison-officers-killed-inmate-escapes-in-ambush-4746188.html', 3)\n",
      "('https://e.vnexpress.net/news/world/south-korea-tightens-scrutiny-to-speed-up-real-estate-restructuring-4745358.html', 5)\n",
      "('https://e.vnexpress.net/news/travel/5-chinese-tourists-kidnapped-extorted-for-67-000-in-bangkok-4745162.html', 3)\n",
      "('https://e.vnexpress.net/news/news/politburo-requests-disciplinary-action-against-former-hcmc-party-chief-4746082.html', 2)\n",
      "('https://e.vnexpress.net/news/sports/football/former-thailand-national-coach-kiatisuk-leaves-vietnamese-club-4745987.html', 2)\n",
      "('https://e.vnexpress.net/news/world/cannes-film-fest-returns-with-comebacks-strikes-trump-and-metoo-4745167.html', 4)\n",
      "('https://e.vnexpress.net/news/sports/other-sports/blackpink-s-lisa-waves-checkered-flag-at-f1-miami-grand-prix-4745452.html', 8)\n",
      "('https://e.vnexpress.net/news/life/wellness/actress-shu-qi-refrains-from-eating-after-6-pm-to-maintain-slim-figure-4745309.html', 4)\n",
      "('https://e.vnexpress.net/news/world/massachusetts-takes-uber-lyft-to-trial-over-whether-drivers-are-employees-4745956.html', 2)\n",
      "('https://e.vnexpress.net/news/news/crime/chinese-man-arrested-for-following-woman-from-bank-stealing-59-000-4745349.html', 2)\n",
      "('https://e.vnexpress.net/news/travel/food-recipes/three-vietnamese-dishes-among-world-s-top-100-salads-4746270.html', 4)\n",
      "('https://e.vnexpress.net/news/travel/places/mysterious-floating-lake-discovered-in-central-vietnam-4745482.html', 4)\n",
      "('https://e.vnexpress.net/news/business/companies/limited-vespa-dragon-scooters-to-be-sold-in-vietnam-for-18-000-4745955.html', 3)\n",
      "('https://e.vnexpress.net/news/life/celebrities/chinese-actor-li-yapeng-owes-employee-10-months-of-salary-4746069.html', 4)\n",
      "('https://e.vnexpress.net/news/news/crime/thai-police-seize-one-tonne-of-crystal-meth-4745297.html', 2)\n",
      "('https://e.vnexpress.net/news/sports/tennis/djokovic-wears-helmet-to-training-after-water-bottle-incident-4746032.html', 2)\n",
      "('https://e.vnexpress.net/news/news/floating-garden-islands-proposed-on-saigon-river-4746020.html', 7)\n",
      "('https://e.vnexpress.net/news/news/environment/landslide-triggered-by-heavy-rains-kills-3-children-in-hanoi-4745315.html', 3)\n",
      "('https://e.vnexpress.net/news/life/trend/parents-struggle-with-daughters-young-pregnancies-4744940.html', 2)\n",
      "('https://e.vnexpress.net/news/life/love/i-can-t-eat-what-my-mother-in-law-cooks-4745613.html', 2)\n",
      "('https://e.vnexpress.net/news/news/education/australia-to-cap-foreign-student-enrollments-4746300.html', 4)\n",
      "('https://e.vnexpress.net/news/world/nepal-limits-number-of-climbing-permits-for-mount-everest-4745168.html', 3)\n",
      "('https://e.vnexpress.net/news/sports/boxing/i-ve-been-robbed-wrong-winner-declared-in-controversial-title-fight-4746034.html', 2)\n",
      "('https://e.vnexpress.net/news/travel/body-of-south-korean-tourist-found-in-thailand-s-pattaya-4746365.html', 7)\n",
      "('https://e.vnexpress.net/news/sports/football/indonesia-coach-complains-about-referee-again-4745140.html', 4)\n",
      "('https://e.vnexpress.net/news/news/education/westlink-international-school-authorized-ib-world-school-4745994.html', 7)\n",
      "('https://e.vnexpress.net/news/business/economy/ri-6-durian-prices-plummet-70-as-harvest-in-full-swing-4745817.html', 3)\n",
      "('https://e.vnexpress.net/news/travel/australia-s-qantas-to-suspend-flights-to-china-s-shanghai-on-low-demand-4745789.html', 3)\n",
      "('https://e.vnexpress.net/news/world/putin-taps-civilian-economist-to-run-defense-replacing-shoigu-in-surprise-move-4745413.html', 3)\n",
      "('https://e.vnexpress.net/news/business/economy/vietnam-airfares-exceed-thailand-s-on-exchange-rate-fluctuations-4745754.html', 4)\n",
      "('https://e.vnexpress.net/news/sports/other-sports/french-climber-dies-on-nepal-s-mt-makalu-4745982.html', 2)\n",
      "('https://e.vnexpress.net/news/news/vietnam-s-labor-minister-rebuked-by-pm-for-negligence-4746053.html', 2)\n",
      "('https://e.vnexpress.net/news/business/economy/us-hikes-tariffs-on-chinese-evs-to-over-100-4746228.html', 5)\n"
     ]
    }
   ],
   "source": [
    "query = text('SELECT url , COUNT(url) FROM news GROUP BY url HAVING COUNT(url) > 1')\n",
    "output = conn.execute(query)\n",
    "rows = output.fetchall()\n",
    "for row in rows:\n",
    "    print(row)"
   ]
  },
  {
   "cell_type": "code",
   "execution_count": 6,
   "metadata": {},
   "outputs": [
    {
     "data": {
      "text/plain": [
       "<sqlalchemy.engine.cursor.CursorResult at 0x70d9c6f95600>"
      ]
     },
     "execution_count": 6,
     "metadata": {},
     "output_type": "execute_result"
    }
   ],
   "source": [
    "query = text('DELETE FROM news a USING news b WHERE a.id < b.id AND a.url = b.url')\n",
    "conn.execute(query)"
   ]
  },
  {
   "cell_type": "code",
   "execution_count": 7,
   "metadata": {},
   "outputs": [],
   "source": [
    "query = text('SELECT url , COUNT(url) FROM news GROUP BY url HAVING COUNT(url) > 1')\n",
    "output = conn.execute(query)\n",
    "rows = output.fetchall()\n",
    "for row in rows:\n",
    "    print(row)"
   ]
  },
  {
   "cell_type": "code",
   "execution_count": 8,
   "metadata": {},
   "outputs": [],
   "source": [
    "conn.commit()"
   ]
  },
  {
   "cell_type": "code",
   "execution_count": 9,
   "metadata": {},
   "outputs": [],
   "source": [
    "conn.close()"
   ]
  },
  {
   "cell_type": "markdown",
   "metadata": {},
   "source": [
    "## Crawl and insert"
   ]
  },
  {
   "cell_type": "code",
   "execution_count": 4,
   "metadata": {},
   "outputs": [],
   "source": [
    "from _crawler import FilterURL, get_all_links, get_content\n",
    "from _summarizer import create_model, summarize\n",
    "\n",
    "summarizer_model = create_model('gemini-1.0-pro')"
   ]
  },
  {
   "cell_type": "code",
   "execution_count": 12,
   "metadata": {},
   "outputs": [],
   "source": [
    "news_sample = get_content('https://e.vnexpress.net/news/news/singapore-allows-online-declaration-for-15-000-cash-transit-4736850.html')\n",
    "summarized_text_sample = summarize(summarizer_model, full_text=news_sample['text'])"
   ]
  },
  {
   "cell_type": "code",
   "execution_count": 13,
   "metadata": {},
   "outputs": [],
   "source": [
    "summarized_text_sample = summarized_text_sample.replace(\"'\", \"''\").replace('\"', '')\n",
    "news_sample['title'] = news_sample['title'].replace('\"', '')"
   ]
  },
  {
   "cell_type": "code",
   "execution_count": 14,
   "metadata": {},
   "outputs": [],
   "source": [
    "query_insert = \"INSERT INTO news(url, title, date, author, category, summary) \" + \\\n",
    "                f\"VALUES('{news_sample['url']}', '{news_sample['title']}', '{news_sample['date']}', '{news_sample['author']}', '{news_sample['category']}', '{summarized_text_sample}')\""
   ]
  },
  {
   "cell_type": "code",
   "execution_count": 15,
   "metadata": {},
   "outputs": [],
   "source": [
    "query_insert_check = \"INSERT INTO NEWS(url, title, date, author, category, summary) \" + \\\n",
    "                f\"SELECT '{news_sample['url']}', '{news_sample['title']}', '{news_sample['date']}', '{news_sample['author']}', '{news_sample['category']}', '{summarized_text_sample}'\" + \\\n",
    "                f\"WHERE NOT EXISTS (SELECT 1 FROM NEWS WHERE url = '{news_sample['url']}')\""
   ]
  },
  {
   "cell_type": "code",
   "execution_count": 16,
   "metadata": {},
   "outputs": [
    {
     "data": {
      "text/plain": [
       "\"INSERT INTO NEWS(url, title, date, author, category, summary) SELECT 'https://e.vnexpress.net/news/news/singapore-allows-online-declaration-for-15-000-cash-transit-4736850.html', 'Singapore allows online declaration for $15,000 cash transit', '2024-04-21', 'Hoang Phong', 'news', '**Online Cash Declaration for Singapore Travelers:**\\n\\nEffective May 13, travelers entering or leaving Singapore with cash exceeding S$20,000 must make online declarations.\\n\\nThe online form, available from May 10 on the Immigration and Checkpoints Authority website or MyICA app, aims to streamline the process and enhance convenience.\\n\\nDeclarations must be submitted three days prior to arrival/departure and reviewed before reaching Singapore checkpoints.\\n\\nFailure to declare cash and negotiable instruments can result in imprisonment up to three years, fines up to S$50,000, or both.'WHERE NOT EXISTS (SELECT 1 FROM NEWS WHERE url = 'https://e.vnexpress.net/news/news/singapore-allows-online-declaration-for-15-000-cash-transit-4736850.html')\""
      ]
     },
     "execution_count": 16,
     "metadata": {},
     "output_type": "execute_result"
    }
   ],
   "source": [
    "query_insert_check"
   ]
  },
  {
   "cell_type": "code",
   "execution_count": 17,
   "metadata": {},
   "outputs": [
    {
     "data": {
      "text/plain": [
       "<sqlalchemy.engine.cursor.CursorResult at 0x7fa4d671b5e0>"
      ]
     },
     "execution_count": 17,
     "metadata": {},
     "output_type": "execute_result"
    }
   ],
   "source": [
    "conn.execute(text(query_insert_check))"
   ]
  },
  {
   "cell_type": "code",
   "execution_count": 20,
   "metadata": {},
   "outputs": [],
   "source": [
    "conn.commit()"
   ]
  },
  {
   "cell_type": "code",
   "execution_count": 21,
   "metadata": {},
   "outputs": [],
   "source": [
    "output = conn.execute(text(\"SELECT * FROM news\"))"
   ]
  },
  {
   "cell_type": "code",
   "execution_count": 22,
   "metadata": {},
   "outputs": [
    {
     "name": "stdout",
     "output_type": "stream",
     "text": [
      "(1, 'https://e.vnexpress.net/news/property/asking-prices-for-uk-homes-close-to-record-high-4737334.html', 'Asking prices for UK homes close to record high', datetime.date(2024, 4, 22), 'Reuters', 'property', '**Summary:**\\\\n\\\\n* UK house asking prices are near record highs, increasing by 1.7% annually.\\\\n* Monthly asking prices rose by 1.1%, slowing from t ... (290 characters truncated) ... hile growth is slower among first-time and second-time buyers.\\\\n* Experts caution against substantial price growth due to current market conditions.')\n",
      "(3, 'https://e.vnexpress.net/news/news/education/hcmc-private-university-annual-tuition-cost-nearly-14-000-4734709.html', 'HCMC private university annual tuition cost nearly $14,000', datetime.date(2024, 4, 18), 'Duong Tam', 'news', '**Tuition Fees for Private Universities in Ho Chi Minh City**\\n\\nAnnual tuition fees for new students at private universities in Ho Chi Minh City (HC ... (599 characters truncated) ... onsidering proficiency tests and English proficiency.\\n* They offer flexible education programs, including some that can be completed in 3-3.5 years.')\n",
      "(4, 'https://e.vnexpress.net/news/news/singapore-allows-online-declaration-for-15-000-cash-transit-4736850.html', 'Singapore allows online declaration for $15,000 cash transit', datetime.date(2024, 4, 21), 'Hoang Phong', 'news', '**Online Cash Declaration for Singapore Travelers:**\\n\\nEffective May 13, travelers entering or leaving Singapore with cash exceeding S$20,000 must m ... (295 characters truncated) ... apore checkpoints.\\n\\nFailure to declare cash and negotiable instruments can result in imprisonment up to three years, fines up to S$50,000, or both.')\n"
     ]
    }
   ],
   "source": [
    "rows = output.fetchall()\n",
    "for row in rows:\n",
    "    print(row)"
   ]
  },
  {
   "cell_type": "code",
   "execution_count": 23,
   "metadata": {},
   "outputs": [],
   "source": [
    "conn.commit()"
   ]
  },
  {
   "cell_type": "code",
   "execution_count": 29,
   "metadata": {},
   "outputs": [],
   "source": [
    "conn.close()"
   ]
  },
  {
   "cell_type": "code",
   "execution_count": null,
   "metadata": {},
   "outputs": [],
   "source": []
  }
 ],
 "metadata": {
  "kernelspec": {
   "display_name": "Python 3",
   "language": "python",
   "name": "python3"
  },
  "language_info": {
   "codemirror_mode": {
    "name": "ipython",
    "version": 3
   },
   "file_extension": ".py",
   "mimetype": "text/x-python",
   "name": "python",
   "nbconvert_exporter": "python",
   "pygments_lexer": "ipython3",
   "version": "3.10.13"
  }
 },
 "nbformat": 4,
 "nbformat_minor": 2
}
