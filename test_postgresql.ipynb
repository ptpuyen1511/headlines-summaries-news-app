{
 "cells": [
  {
   "cell_type": "code",
   "execution_count": 1,
   "metadata": {},
   "outputs": [],
   "source": [
    "from sqlalchemy import URL, create_engine, text\n",
    "import streamlit as st"
   ]
  },
  {
   "cell_type": "code",
   "execution_count": 6,
   "metadata": {},
   "outputs": [],
   "source": [
    "connection_string = URL.create(\n",
    "    'postgresql',\n",
    "    username=st.secrets.connections.postgresql.username,\n",
    "    password=st.secrets.connections.postgresql.password,\n",
    "    host=st.secrets.connections.postgresql.host,\n",
    "    database=st.secrets.connections.postgresql.database,\n",
    "    query={'options':'endpoint=ep-sweet-cloud-a1zh9huf'}\n",
    ")"
   ]
  },
  {
   "cell_type": "code",
   "execution_count": 7,
   "metadata": {},
   "outputs": [],
   "source": [
    "engine = create_engine(connection_string, connect_args={'sslmode':'require'}, pool_pre_ping=True, pool_recycle=3600)\n",
    "conn = engine.connect()"
   ]
  },
  {
   "cell_type": "markdown",
   "metadata": {},
   "source": [
    "## Delete"
   ]
  },
  {
   "cell_type": "code",
   "execution_count": 4,
   "metadata": {},
   "outputs": [],
   "source": [
    "query = text('SELECT url , COUNT(url) FROM news GROUP BY url HAVING COUNT(url) > 1')\n",
    "output = conn.execute(query)\n",
    "rows = output.fetchall()\n",
    "for row in rows:\n",
    "    print(row)"
   ]
  },
  {
   "cell_type": "code",
   "execution_count": 5,
   "metadata": {},
   "outputs": [
    {
     "data": {
      "text/plain": [
       "<sqlalchemy.engine.cursor.CursorResult at 0x7f3b1ea41300>"
      ]
     },
     "execution_count": 5,
     "metadata": {},
     "output_type": "execute_result"
    }
   ],
   "source": [
    "query = text('DELETE FROM news a USING news b WHERE a.id < b.id AND a.url = b.url')\n",
    "conn.execute(query)"
   ]
  },
  {
   "cell_type": "code",
   "execution_count": 6,
   "metadata": {},
   "outputs": [],
   "source": [
    "query = text('SELECT url , COUNT(url) FROM news GROUP BY url HAVING COUNT(url) > 1')\n",
    "output = conn.execute(query)\n",
    "rows = output.fetchall()\n",
    "for row in rows:\n",
    "    print(row)"
   ]
  },
  {
   "cell_type": "code",
   "execution_count": 8,
   "metadata": {},
   "outputs": [
    {
     "data": {
      "text/plain": [
       "<sqlalchemy.engine.cursor.CursorResult at 0x7f3b1ea41060>"
      ]
     },
     "execution_count": 8,
     "metadata": {},
     "output_type": "execute_result"
    }
   ],
   "source": [
    "# Remove records that older than 30 days\n",
    "query = text('DELETE FROM news WHERE date < CURRENT_DATE - INTERVAL \\'30 days\\'')\n",
    "conn.execute(query)"
   ]
  },
  {
   "cell_type": "code",
   "execution_count": 9,
   "metadata": {},
   "outputs": [],
   "source": [
    "conn.commit()"
   ]
  },
  {
   "cell_type": "code",
   "execution_count": 8,
   "metadata": {},
   "outputs": [],
   "source": [
    "conn.close()"
   ]
  },
  {
   "cell_type": "markdown",
   "metadata": {},
   "source": [
    "## Crawl and insert"
   ]
  },
  {
   "cell_type": "code",
   "execution_count": 7,
   "metadata": {},
   "outputs": [],
   "source": [
    "from _crawler import FilterURL, get_all_links, get_content\n",
    "from _summarizer import create_model, summarize\n",
    "\n",
    "summarizer_model = create_model('gemini-1.5-pro')"
   ]
  },
  {
   "cell_type": "code",
   "execution_count": 8,
   "metadata": {},
   "outputs": [],
   "source": [
    "news_sample = get_content('https://e.vnexpress.net/news/news/singapore-allows-online-declaration-for-15-000-cash-transit-4736850.html')\n",
    "summarized_text_sample = summarize(summarizer_model, full_text=news_sample['text'])"
   ]
  },
  {
   "cell_type": "code",
   "execution_count": 9,
   "metadata": {},
   "outputs": [],
   "source": [
    "summarized_text_sample = summarized_text_sample.replace(\"'\", \"''\").replace('\"', '')\n",
    "news_sample['title'] = news_sample['title'].replace('\"', '')"
   ]
  },
  {
   "cell_type": "code",
   "execution_count": 10,
   "metadata": {},
   "outputs": [],
   "source": [
    "query_insert = \"INSERT INTO news(url, title, date, author, category, summary) \" + \\\n",
    "                f\"VALUES('{news_sample['url']}', '{news_sample['title']}', '{news_sample['date']}', '{news_sample['author']}', '{news_sample['category']}', '{summarized_text_sample}')\""
   ]
  },
  {
   "cell_type": "code",
   "execution_count": 11,
   "metadata": {},
   "outputs": [],
   "source": [
    "query_insert_check = \"INSERT INTO NEWS(url, title, date, author, category, summary) \" + \\\n",
    "                f\"SELECT '{news_sample['url']}', '{news_sample['title']}', '{news_sample['date']}', '{news_sample['author']}', '{news_sample['category']}', '{summarized_text_sample}'\" + \\\n",
    "                f\"WHERE NOT EXISTS (SELECT 1 FROM NEWS WHERE url = '{news_sample['url']}')\""
   ]
  },
  {
   "cell_type": "code",
   "execution_count": 12,
   "metadata": {},
   "outputs": [
    {
     "data": {
      "text/plain": [
       "\"INSERT INTO NEWS(url, title, date, author, category, summary) SELECT 'https://e.vnexpress.net/news/news/singapore-allows-online-declaration-for-15-000-cash-transit-4736850.html', 'Singapore allows online declaration for $15,000 cash transit', '2024-04-21', 'Hoang Phong', 'news', 'Starting May 13, 2023, travelers carrying over S$20,000 (US$14,700) in cash can submit online declarations via the Immigration and Checkpoints Authority (ICA) website or MyICA mobile app.  This replaces the current hard copy requirement.  The online form will be accessible from May 10, 2023, and must be submitted three days prior to arrival or departure.  Non-declaration penalties include up to three years imprisonment and/or a S$50,000 fine.\\n'WHERE NOT EXISTS (SELECT 1 FROM NEWS WHERE url = 'https://e.vnexpress.net/news/news/singapore-allows-online-declaration-for-15-000-cash-transit-4736850.html')\""
      ]
     },
     "execution_count": 12,
     "metadata": {},
     "output_type": "execute_result"
    }
   ],
   "source": [
    "query_insert_check"
   ]
  },
  {
   "cell_type": "code",
   "execution_count": 13,
   "metadata": {},
   "outputs": [
    {
     "data": {
      "text/plain": [
       "<sqlalchemy.engine.cursor.CursorResult at 0x71e805827fa0>"
      ]
     },
     "execution_count": 13,
     "metadata": {},
     "output_type": "execute_result"
    }
   ],
   "source": [
    "conn.execute(text(query_insert_check))"
   ]
  },
  {
   "cell_type": "code",
   "execution_count": 14,
   "metadata": {},
   "outputs": [],
   "source": [
    "conn.commit()"
   ]
  },
  {
   "cell_type": "code",
   "execution_count": 8,
   "metadata": {},
   "outputs": [],
   "source": [
    "output = conn.execute(text(\"SELECT * FROM news\"))"
   ]
  },
  {
   "cell_type": "code",
   "execution_count": 9,
   "metadata": {},
   "outputs": [
    {
     "name": "stdout",
     "output_type": "stream",
     "text": [
      "(4006, 'https://e.vnexpress.net/news/news/japan-births-fall-to-new-historic-low-4854885.html', 'Japan births fall to new historic low', datetime.date(2025, 2, 27), 'AFP', 'news', \"Japan's 2024 birth rate hit a record low for the ninth consecutive year, declining 5% to 720,988.  Deaths (1.62 million) more than doubled births.  T ... (226 characters truncated) ... ritizes addressing this demographic crisis, though high education costs, economic stagnation, and lifestyle changes contribute to declining births.\\n\")\n",
      "(4007, 'https://e.vnexpress.net/news/news/traffic/new-york-city-congestion-program-collected-48-6m-in-january-4854518.html', 'New York City congestion program collected $48.6M in January', datetime.date(2025, 2, 26), 'Reuters', 'news', \"NYC's congestion pricing program generated $48.6 million in gross revenue and $37.5 million in net revenue during its first month (January 2024).  Pa ... (456 characters truncated) ...  in London, Singapore, and Sweden.  NYC implemented the program to address increased traffic congestion in the Manhattan central business district.\\n\")\n",
      "(4008, 'https://e.vnexpress.net/news/world/india-britain-step-up-trade-talks-amid-trump-tariff-threats-4853593.html', 'India, Britain step up trade talks amid Trump tariff threats', datetime.date(2025, 2, 24), 'Reuters', 'world', 'India and Britain have restarted trade negotiations, aiming to increase bilateral trade two- to threefold over the next ten years.  Discussions inclu ... (215 characters truncated) ...  in March 2024 due to elections.  India recently concluded trade agreements with various countries and lowered tariffs on American bourbon whiskey.\\n')\n",
      "(4009, 'https://e.vnexpress.net/news/world/crypto-exchange-bybit-loses-1-5b-in-record-hack-4852595.html', 'Crypto exchange Bybit loses $1.5B in record hack', datetime.date(2025, 2, 21), 'AFP', 'world', \"Bybit cryptocurrency exchange suffered a $1.5 billion hack, the largest in crypto history.  Hackers exploited security protocols during a transaction ... (243 characters truncated) ...  in client assets.  Zhou committed to covering unrecovered funds.  The hack surpasses the previous record $620 million Ronin Network theft in 2022.\\n\")\n",
      "(4010, 'https://e.vnexpress.net/news/world/yankees-change-facial-hair-policy-to-allow-well-groomed-beards-4852598.html', \"Yankees change facial hair policy to allow 'well-groomed beards'\", datetime.date(2025, 2, 21), 'AFP', 'world', 'The New York Yankees have revised their facial hair policy, permitting players to have well-groomed beards.  This change, decided by managing general ... (405 characters truncated) ... ents due to the restrictive policy influenced the decision.  Wrexham AFC jokingly responded with their own revised facial hair policy announcement.\\n')\n",
      "(4011, 'https://e.vnexpress.net/news/news/crime/southeast-asia-s-latest-scam-center-crackdown-explained-4855027.html', \"Southeast Asia's latest scam center crackdown, explained\", datetime.date(2025, 2, 27), 'AFP', 'news', \"Increased multinational efforts to combat cyber scam operations along the Thai-Myanmar border are underway.  Driven by the industry's growth during t ... (416 characters truncated) ... ity and potential for relocation or resource substitution.  Previous crackdowns suggest limited impact on key figures within the criminal networks.\\n\")\n",
      "(4012, 'https://e.vnexpress.net/news/news/man-jailed-30-months-for-abusing-democratic-freedoms-4854868.html', 'Man jailed 30 months for abusing democratic freedoms', datetime.date(2025, 2, 27), 'VNA', 'news', 'Truong Huy San, a 61-year-old resident of Ho Chi Minh City, received a 30-month sentence for violating Article 331 of the Penal Code.  Between 2015 a ... (284 characters truncated) ... y for the content, acknowledging the violation while claiming no intent to oppose the state. He expressed remorse and requested a reduced sentence.\\n')\n",
      "(4013, 'https://e.vnexpress.net/news/news/japanese-police-receive-makeup-training-for-public-appearances-4854715.html', 'Japanese police receive makeup training for public appearances', datetime.date(2025, 2, 27), 'Minh Nga', 'news', 'Fukushima Police Academy incorporates makeup training into curriculum for 60 graduating trainees.  Shiseido experts provided general and personalized ... (167 characters truncated) ... r with cosmetics, experienced challenges with the training.  This new curriculum contrasts with the traditional focus on law and physical training.\\n')\n",
      "(4014, 'https://e.vnexpress.net/news/travel/thailand-might-lose-out-to-japan-singapore-in-attracting-chinese-tourists-4853771.html', 'Thailand might lose out to Japan, Singapore in attracting Chinese tourists', datetime.date(2025, 2, 25), 'Hoang Phong', 'travel', \"Increased safety concerns in Thailand, following a high-profile kidnapping, have negatively impacted Chinese tourism.  Conversely, Japan, Malaysia, a ... (615 characters truncated) ... gs remain below 2024 levels.  Despite Thai authorities' efforts to address safety concerns, negative publicity continues to deter Chinese tourists.\\n\")\n",
      "(4015, 'https://e.vnexpress.net/news/travel/places/puppy-mountain-photo-draws-onlookers-to-a-chinese-riverside-4854731.html', \"'Puppy Mountain' photo draws onlookers to a Chinese riverside\", datetime.date(2025, 2, 26), 'AP', 'travel', \"A photo of a mountain resembling a dog's head, taken by Guo Qingshan in Yichang, Hubei province, China, went viral on Chinese social media.  The imag ... (199 characters truncated) ... to the mountain's shape.  The mountain's resemblance to a dog has been recognized previously, with older photos of the location resurfacing online.\\n\")\n",
      "(4016, 'https://e.vnexpress.net/news/travel/thailand-launches-summer-festivals-to-boost-tourism-4855048.html', \"Thailand launches 'Summer Festivals' to boost tourism\", datetime.date(2025, 2, 27), 'VNA', 'travel', \"Thailand's 7 Months 7 Wonders Summer Festivals campaign, launched by PM Paetongtarn Shinawatra, aims to stimulate tourism and the creative economy fr ... (363 characters truncated) ... tural Heritage status for global recognition.  The government aims to strengthen the tourism sector's contribution to GDP, currently exceeding 14%.\\n\")\n",
      "(4017, 'https://e.vnexpress.net/news/news/traffic/vietnam-records-sharp-drop-in-traffic-accidents-in-2-months-4854709.html', 'Vietnam records sharp drop in traffic accidents in 2 months', datetime.date(2025, 2, 27), 'VNA', 'news', 'Vietnam traffic accidents and fatalities decreased significantly in early 2025.  Between January 15 and February 14, 2025, total accidents dropped 33 ... (392 characters truncated) ... ts decreased 11.11%, deaths decreased 27.27%, but injuries increased 25%. Waterway accidents and fatalities increased 22.22% and 125% respectively.\\n')\n",
      "(4018, 'https://e.vnexpress.net/news/news/escaping-hell-myanmar-scam-center-workers-plead-to-go-home-4854869.html', \"'Escaping hell': Myanmar scam center workers plead to go home\", datetime.date(2025, 2, 27), 'AFP', 'news', \"Thousands of individuals from over 20 countries, recently released from Myanmar scam compounds, await repatriation in overcrowded, unsanitary conditi ... (813 characters truncated) ... d, Myanmar, and China are planned to coordinate future repatriation efforts.  BGF urges foreign embassies to expedite the return of their citizens.\\n\")\n",
      "(4019, 'https://e.vnexpress.net/news/news/vietnamese-citizens-among-7-000-rescued-from-myanmar-scam-networks-4854900.html', 'Vietnamese citizens among 7,000 rescued from Myanmar scam networks', datetime.date(2025, 2, 27), 'VNA', 'news', 'Several foreign nationals, including Vietnamese citizens, are detained in Myanmar following a crackdown on border online scams.  The Vietnamese Minis ... (392 characters truncated) ... laws of both countries.  Vietnamese authorities are committed to monitoring the situation and providing consular protection for Vietnamese victims.\\n')\n"
     ]
    }
   ],
   "source": [
    "rows = output.fetchall()\n",
    "for row in rows:\n",
    "    print(row)"
   ]
  },
  {
   "cell_type": "code",
   "execution_count": 12,
   "metadata": {},
   "outputs": [],
   "source": [
    "conn.commit()"
   ]
  },
  {
   "cell_type": "code",
   "execution_count": 4,
   "metadata": {},
   "outputs": [],
   "source": [
    "conn.close()"
   ]
  },
  {
   "cell_type": "code",
   "execution_count": null,
   "metadata": {},
   "outputs": [],
   "source": []
  }
 ],
 "metadata": {
  "kernelspec": {
   "display_name": "Python 3",
   "language": "python",
   "name": "python3"
  },
  "language_info": {
   "codemirror_mode": {
    "name": "ipython",
    "version": 3
   },
   "file_extension": ".py",
   "mimetype": "text/x-python",
   "name": "python",
   "nbconvert_exporter": "python",
   "pygments_lexer": "ipython3",
   "version": "3.10.13"
  }
 },
 "nbformat": 4,
 "nbformat_minor": 2
}
